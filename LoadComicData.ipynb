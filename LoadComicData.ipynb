{
 "cells": [
  {
   "cell_type": "markdown",
   "id": "3e476565",
   "metadata": {},
   "source": [
    "<div class=\"alert alert-block alert-info\">\n",
    "\n",
    "# **LoadComicData.ipynb**\n",
    "***\n",
    "### **This script loads comic book images for neural network training. The images are made in a pair of one colored, and one grayscaled.**\n"
   ]
  },
  {
   "cell_type": "code",
   "execution_count": null,
   "id": "8492234b",
   "metadata": {},
   "outputs": [],
   "source": []
  }
 ],
 "metadata": {
  "language_info": {
   "name": "python"
  }
 },
 "nbformat": 4,
 "nbformat_minor": 5
}
