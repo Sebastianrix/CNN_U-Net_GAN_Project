{
 "cells": [
  {
   "cell_type": "markdown",
   "metadata": {},
   "source": [
    "# Improved U-NET RGB Colorization Model\n",
    "This notebook implements an enhanced version of the U-Net model for comic colorization"
   ]
  },
  {
   "cell_type": "code",
   "execution_count": null,
   "metadata": {},
   "outputs": [],
   "source": [
    "import numpy as np\n",
    "import matplotlib.pyplot as plt\n",
    "from unet_model import build_unet, get_callbacks"
   ]
  },
  {
   "cell_type": "code",
   "execution_count": null,
   "metadata": {},
   "outputs": [],
   "source": [
    "# Load and preprocess data\n",
    "X_train = np.load(\"prepared_data/comic_input_grayscale_train.npy\")\n",
    "y_train = np.load(\"prepared_data/comic_output_color_train.npy\")\n",
    "X_test = np.load(\"prepared_data/comic_input_grayscale_test.npy\")\n",
    "y_test = np.load(\"prepared_data/comic_output_color_test.npy\")\n",
    "\n",
    "# Normalize input images to [-1, 1] range for better training with tanh\n",
    "X_train = (X_train - 0.5) * 2\n",
    "X_test = (X_test - 0.5) * 2"
   ]
  },
  {
   "cell_type": "code",
   "execution_count": null,
   "metadata": {},
   "outputs": [],
   "source": [
    "# Build and compile model\n",
    "input_shape = X_train.shape[1:]\n",
    "model = build_unet(input_shape)\n",
    "\n",
    "# Using a combination of MSE and MAE losses\n",
    "def combined_loss(y_true, y_pred):\n",
    "    mse = tf.keras.losses.MeanSquaredError()(y_true, y_pred)\n",
    "    mae = tf.keras.losses.MeanAbsoluteError()(y_true, y_pred)\n",
    "    return 0.84 * mse + 0.16 * mae\n",
    "\n",
    "model.compile(\n",
    "    optimizer=tf.keras.optimizers.Adam(learning_rate=1e-4),\n",
    "    loss=combined_loss,\n",
    "    metrics=['mae']\n",
    ")"
   ]
  },
  {
   "cell_type": "code",
   "execution_count": null,
   "metadata": {},
   "outputs": [],
   "source": [
    "# Train the model\n",
    "callbacks = get_callbacks()\n",
    "\n",
    "history = model.fit(\n",
    "    X_train, y_train,\n",
    "    validation_data=(X_test, y_test),\n",
    "    epochs=100,\n",
    "    batch_size=8,\n",
    "    callbacks=callbacks\n",
    ")"
   ]
  },
  {
   "cell_type": "code",
   "execution_count": null,
   "metadata": {},
   "outputs": [],
   "source": [
    "# Save the model\n",
    "model.save(\"improved_unet_colorization_rgb_comics.keras\")\n",
    "print(\"Model saved as 'improved_unet_colorization_rgb_comics.keras'\")"
   ]
  },
  {
   "cell_type": "code",
   "execution_count": null,
   "metadata": {},
   "outputs": [],
   "source": [
    "# Visualize some results\n",
    "def plot_results(model, X, y, num_samples=3):\n",
    "    predictions = model.predict(X[:num_samples])\n",
    "    \n",
    "    fig, axes = plt.subplots(num_samples, 3, figsize=(15, 5*num_samples))\n",
    "    titles = ['Grayscale Input', 'Predicted Color', 'Ground Truth']\n",
    "    \n",
    "    for i in range(num_samples):\n",
    "        axes[i, 0].imshow(X[i].squeeze(), cmap='gray')\n",
    "        axes[i, 1].imshow(predictions[i])\n",
    "        axes[i, 2].imshow(y[i])\n",
    "        \n",
    "        for j in range(3):\n",
    "            axes[i, j].axis('off')\n",
    "            if i == 0:\n",
    "                axes[i, j].set_title(titles[j])\n",
    "    \n",
    "    plt.tight_layout()\n",
    "    plt.show()\n",
    "\n",
    "# Plot test results\n",
    "plot_results(model, X_test, y_test)"
   ]
  }
 ],
 "metadata": {
  "kernelspec": {
   "display_name": "Python 3",
   "language": "python",
   "name": "python3"
  }
 },
 "nbformat": 4,
 "nbformat_minor": 2
} 