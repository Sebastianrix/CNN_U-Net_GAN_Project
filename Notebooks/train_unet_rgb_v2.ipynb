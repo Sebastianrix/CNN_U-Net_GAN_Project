{
 "cells": [
  {
   "cell_type": "markdown",
   "metadata": {},
   "source": [
    "<!-- RGB Model -->\n",
    "<div class=\"alert\" style=\"background: linear-gradient(to right,rgb(255, 0, 0), rgb(0,255,0),rgb(0, 0, 255)); \n",
    "color:rgb(255, 255, 255);\">\n",
    "\n",
    "# **U-NET RGB Colorization Model - V2**\n",
    "***\n",
    "### **U-NET RGB Colorization Model.**\n"
   ]
  },
  {
   "cell_type": "code",
   "execution_count": 3,
   "metadata": {},
   "outputs": [
    {
     "ename": "IndentationError",
     "evalue": "unexpected indent (unet_model.py, line 74)",
     "output_type": "error",
     "traceback": [
      "Traceback \u001b[1;36m(most recent call last)\u001b[0m:\n",
      "\u001b[0m  File \u001b[0;32mc:\\Users\\sebas\\Desktop\\PythonMetaRepo\\CNN_U-Net_GAN_Project\\.venv\\lib\\site-packages\\IPython\\core\\interactiveshell.py:3579\u001b[0m in \u001b[0;35mrun_code\u001b[0m\n    exec(code_obj, self.user_global_ns, self.user_ns)\u001b[0m\n",
      "\u001b[1;36m  Cell \u001b[1;32mIn[3], line 5\u001b[1;36m\n\u001b[1;33m    from unet_model import build_unet, get_callbacks\u001b[1;36m\n",
      "\u001b[1;36m  File \u001b[1;32mc:\\Users\\sebas\\Desktop\\PythonMetaRepo\\CNN_U-Net_GAN_Project\\Notebooks\\../Src\\unet_model.py:74\u001b[1;36m\u001b[0m\n\u001b[1;33m    model = models.Model(inputs, outputs)\u001b[0m\n\u001b[1;37m    ^\u001b[0m\n\u001b[1;31mIndentationError\u001b[0m\u001b[1;31m:\u001b[0m unexpected indent\n"
     ]
    }
   ],
   "source": [
    "import numpy as np\n",
    "import matplotlib.pyplot as plt\n",
    "import sys\n",
    "sys.path.append('../Src')\n",
    "from unet_model import build_unet, get_callbacks\n",
    "import tensorflow as tf\n",
    "\n",
    "from tensorflow.keras import layers, models\n",
    "from tensorflow.keras.models import load_model"
   ]
  },
  {
   "cell_type": "code",
   "execution_count": 3,
   "metadata": {},
   "outputs": [
    {
     "name": "stdout",
     "output_type": "stream",
     "text": [
      "TensorFlow version: 2.10.0\n",
      "Built with CUDA: True\n",
      "GPU Available: [PhysicalDevice(name='/physical_device:GPU:0', device_type='GPU')]\n",
      "Device List:\n",
      " - /device:CPU:0 (CPU)\n",
      " - /device:GPU:0 (GPU)\n",
      "INFO:tensorflow:Mixed precision compatibility check (mixed_float16): OK\n",
      "Your GPU will likely run quickly with dtype policy mixed_float16 as it has compute capability of at least 7.0. Your GPU: NVIDIA GeForce RTX 3080, compute capability 8.6\n",
      "Mixed precision enabled (float16).\n"
     ]
    }
   ],
   "source": [
    "# GPU Check & Mixed Precision Setup for TensorFlow\n",
    "import tensorflow as tf\n",
    "from tensorflow.python.client import device_lib\n",
    "\n",
    "print(f\"TensorFlow version: {tf.__version__}\")\n",
    "print(f\"Built with CUDA: {tf.test.is_built_with_cuda()}\")\n",
    "print(f\"GPU Available: {tf.config.list_physical_devices('GPU')}\")\n",
    "\n",
    "print(\"Device List:\")\n",
    "for device in device_lib.list_local_devices():\n",
    "    print(f\" - {device.name} ({device.device_type})\")\n",
    "\n",
    "# Enable mixed precision for performance if GPU is available\n",
    "gpus = tf.config.experimental.list_physical_devices('GPU')\n",
    "if gpus:\n",
    "    try:\n",
    "        from tensorflow.keras import mixed_precision\n",
    "        mixed_precision.set_global_policy(\"mixed_float16\")\n",
    "        print(\"Mixed precision enabled (float16).\")\n",
    "    except Exception as e:\n",
    "        print(f\"Could not enable mixed precision: {e}\")\n",
    "else:\n",
    "    print(\"No GPU detected. Running on CPU.\")"
   ]
  },
  {
   "cell_type": "code",
   "execution_count": 4,
   "metadata": {},
   "outputs": [
    {
     "name": "stdout",
     "output_type": "stream",
     "text": [
      "c:\\Users\\sebas\\Desktop\\PythonMetaRepo\\CNN_U-Net_GAN_Project\\.venv\\Scripts\\python.exe\n"
     ]
    }
   ],
   "source": [
    "import sys\n",
    "print(sys.executable)\n"
   ]
  },
  {
   "cell_type": "code",
   "execution_count": 1,
   "metadata": {},
   "outputs": [
    {
     "ename": "NameError",
     "evalue": "name 'np' is not defined",
     "output_type": "error",
     "traceback": [
      "\u001b[1;31m---------------------------------------------------------------------------\u001b[0m",
      "\u001b[1;31mNameError\u001b[0m                                 Traceback (most recent call last)",
      "Cell \u001b[1;32mIn[1], line 1\u001b[0m\n\u001b[1;32m----> 1\u001b[0m X_train \u001b[38;5;241m=\u001b[39m \u001b[43mnp\u001b[49m\u001b[38;5;241m.\u001b[39mload(\u001b[38;5;124m\"\u001b[39m\u001b[38;5;124m../Data/prepared_data/RGB/comic_input_grayscale_train.npy\u001b[39m\u001b[38;5;124m\"\u001b[39m)\n\u001b[0;32m      2\u001b[0m \u001b[38;5;28mprint\u001b[39m(X_train\u001b[38;5;241m.\u001b[39mdtype)\n",
      "\u001b[1;31mNameError\u001b[0m: name 'np' is not defined"
     ]
    }
   ],
   "source": [
    "X_train = np.load(\"../Data/prepared_data/RGB/comic_input_grayscale_train.npy\")\n",
    "print(X_train.dtype)"
   ]
  },
  {
   "cell_type": "code",
   "execution_count": 5,
   "metadata": {},
   "outputs": [
    {
     "name": "stdout",
     "output_type": "stream",
     "text": [
      "2.10.0\n"
     ]
    }
   ],
   "source": [
    "import tensorflow as tf\n",
    "print(tf.__version__)"
   ]
  },
  {
   "cell_type": "code",
   "execution_count": null,
   "metadata": {},
   "outputs": [
    {
     "ename": "",
     "evalue": "",
     "output_type": "error",
     "traceback": [
      "\u001b[1;31mThe Kernel crashed while executing code in the current cell or a previous cell. \n",
      "\u001b[1;31mPlease review the code in the cell(s) to identify a possible cause of the failure. \n",
      "\u001b[1;31mClick <a href='https://aka.ms/vscodeJupyterKernelCrash'>here</a> for more info. \n",
      "\u001b[1;31mView Jupyter <a href='command:jupyter.viewOutput'>log</a> for further details."
     ]
    }
   ],
   "source": [
    "# Load and preprocess data\n",
    "X_train = np.load(\"../Data/prepared_data/RGB/comic_input_grayscale_train.npy\")\n",
    "y_train = np.load(\"../Data/prepared_data/RGB/comic_output_color_train.npy\")\n",
    "X_test = np.load(\"../Data/prepared_data/RGB/comic_input_grayscale_test.npy\")\n",
    "y_test = np.load(\"../Data/prepared_data/RGB/comic_output_color_test.npy\")\n",
    "\n",
    "# Normalize input images to [-1, 1] range for better training with tanh\n",
    "X_train = (X_train - 0.5) * 2\n",
    "X_test = (X_test - 0.5) * 2"
   ]
  },
  {
   "cell_type": "code",
   "execution_count": null,
   "metadata": {},
   "outputs": [
    {
     "name": "stdout",
     "output_type": "stream",
     "text": [
      "Epoch 1/100\n"
     ]
    }
   ],
   "source": [
    "import tensorflow as tf\n",
    "from tensorflow.keras.callbacks import ModelCheckpoint, EarlyStopping\n",
    "\n",
    "# Build model\n",
    "input_shape = X_train.shape[1:]  # (256, 256, 1) for grayscale\n",
    "model = build_unet(input_shape)\n",
    "\n",
    "# Combined loss with correct dtype\n",
    "def combined_loss(y_true, y_pred):\n",
    "    mse = tf.keras.losses.MeanSquaredError()(y_true, y_pred)\n",
    "    mae = tf.keras.losses.MeanAbsoluteError()(y_true, y_pred)\n",
    "    loss = 0.84 * mse + 0.16 * mae\n",
    "    return tf.cast(loss, tf.float32)\n",
    "\n",
    "model.compile(\n",
    "    optimizer=tf.keras.optimizers.Adam(learning_rate=1e-4),\n",
    "    loss=combined_loss,\n",
    "    metrics=['mae']\n",
    ")\n",
    "\n",
    "# Callbacks\n",
    "checkpoint_cb = ModelCheckpoint(\"U-NET_RGB_best_model_v2.keras\", save_best_only=True, monitor='val_loss', mode='min')\n",
    "earlystop_cb = EarlyStopping(patience=10, restore_best_weights=True)\n",
    "\n",
    "# Train\n",
    "history = model.fit(\n",
    "    X_train, y_train,\n",
    "    validation_data=(X_test, y_test),\n",
    "    epochs=100,\n",
    "    batch_size=32,\n",
    "    callbacks=[checkpoint_cb, earlystop_cb]\n",
    ")\n",
    "\n",
    "model.save(\"U-NET_RGB_final_trained_v2.keras\")\n",
    "print(\"Saved best and final model.\")\n"
   ]
  },
  {
   "cell_type": "code",
   "execution_count": null,
   "metadata": {},
   "outputs": [],
   "source": [
    "# Visualize some results\n",
    "def plot_results(model, X, y, num_samples=50):\n",
    "    predictions = model.predict(X[:num_samples])\n",
    "    \n",
    "    fig, axes = plt.subplots(num_samples, 3, figsize=(15, 5*num_samples))\n",
    "    titles = ['Grayscale Input', 'Predicted Color', 'Ground Truth']\n",
    "    \n",
    "    for i in range(num_samples):\n",
    "        axes[i, 0].imshow(X[i].squeeze(), cmap='gray')\n",
    "        axes[i, 1].imshow(predictions[i])\n",
    "        axes[i, 2].imshow(y[i])\n",
    "        \n",
    "        for j in range(3):\n",
    "            axes[i, j].axis('off')\n",
    "            if i == 0:\n",
    "                axes[i, j].set_title(titles[j])\n",
    "    \n",
    "    plt.tight_layout()\n",
    "    plt.show()\n",
    "\n",
    "# Plot test results\n",
    "plot_results(model, X_test, y_test)"
   ]
  },
  {
   "cell_type": "code",
   "execution_count": null,
   "metadata": {},
   "outputs": [],
   "source": [
    "# Check variables\n",
    "%whos"
   ]
  }
 ],
 "metadata": {
  "kernelspec": {
   "display_name": ".venv",
   "language": "python",
   "name": "python3"
  },
  "language_info": {
   "codemirror_mode": {
    "name": "ipython",
    "version": 3
   },
   "file_extension": ".py",
   "mimetype": "text/x-python",
   "name": "python",
   "nbconvert_exporter": "python",
   "pygments_lexer": "ipython3",
   "version": "3.10.11"
  }
 },
 "nbformat": 4,
 "nbformat_minor": 2
}
