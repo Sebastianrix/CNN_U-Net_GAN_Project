{
 "cells": [
  {
   "cell_type": "markdown",
   "metadata": {},
   "source": [
    "<!-- HSV U-Net Model -->\n",
    "<div class=\"alert\" style=\"background: linear-gradient(to right, hsl(125, 100.00%, 50.00%), hsl(6, 100.00%, 50.00%), hsl(290, 100.00%, 53.10%)); color:white;\">\n",
    "\n",
    "# **U-NET HSV Colorization Model**\n",
    "***\n",
    "This notebook implements a U-Net model for image colorization using the HSV color space. The model takes grayscale images (Value channel) as input and predicts the Hue and Saturation channels."
   ]
  },
  {
   "cell_type": "code",
   "execution_count": 1,
   "metadata": {},
   "outputs": [],
   "source": [
    "import numpy as np\n",
    "import matplotlib.pyplot as plt\n",
    "import sys\n",
    "sys.path.append('../Src')\n",
    "from unet_model import build_unet, get_callbacks\n",
    "import tensorflow as tf\n",
    "\n",
    "from tensorflow.keras import layers, models\n",
    "from tensorflow.keras.models import load_model"
   ]
  },
  {
   "cell_type": "code",
   "execution_count": 2,
   "metadata": {},
   "outputs": [
    {
     "name": "stdout",
     "output_type": "stream",
     "text": [
      "TensorFlow version: 2.10.0\n",
      "Built with CUDA: True\n",
      "GPU Available: [PhysicalDevice(name='/physical_device:GPU:0', device_type='GPU')]\n",
      "Device List:\n",
      " - /device:CPU:0 (CPU)\n",
      " - /device:GPU:0 (GPU)\n",
      "INFO:tensorflow:Mixed precision compatibility check (mixed_float16): OK\n",
      "Your GPU will likely run quickly with dtype policy mixed_float16 as it has compute capability of at least 7.0. Your GPU: NVIDIA GeForce RTX 3080, compute capability 8.6\n",
      "Mixed precision enabled (float16).\n"
     ]
    }
   ],
   "source": [
    "# GPU Check & Mixed Precision Setup for TensorFlow\n",
    "import tensorflow as tf\n",
    "from tensorflow.python.client import device_lib\n",
    "\n",
    "print(f\"TensorFlow version: {tf.__version__}\")\n",
    "print(f\"Built with CUDA: {tf.test.is_built_with_cuda()}\")\n",
    "print(f\"GPU Available: {tf.config.list_physical_devices('GPU')}\")\n",
    "\n",
    "print(\"Device List:\")\n",
    "for device in device_lib.list_local_devices():\n",
    "    print(f\" - {device.name} ({device.device_type})\")\n",
    "\n",
    "# Enable mixed precision for performance if GPU is available\n",
    "gpus = tf.config.experimental.list_physical_devices('GPU')\n",
    "if gpus:\n",
    "    try:\n",
    "        from tensorflow.keras import mixed_precision\n",
    "        mixed_precision.set_global_policy(\"mixed_float16\")\n",
    "        print(\"Mixed precision enabled (float16).\")\n",
    "    except Exception as e:\n",
    "        print(f\"Could not enable mixed precision: {e}\")\n",
    "else:\n",
    "    print(\"No GPU detected. Running on CPU.\")"
   ]
  },
  {
   "cell_type": "code",
   "execution_count": 3,
   "metadata": {},
   "outputs": [],
   "source": [
    "# Load and preprocess data\n",
    "x_train = np.load(\"../Data/prepared_data/HSV/comic_input_grayscale_train.npy\")\n",
    "y_train = np.load(\"../Data/prepared_data/HSV/comic_output_color_train.npy\")\n",
    "x_test  = np.load(\"../Data/prepared_data/HSV/comic_input_grayscale_test.npy\")\n",
    "y_test  = np.load(\"../Data/prepared_data/HSV/comic_output_color_test.npy\")\n",
    "\n",
    "# casting to float32 because GPU training is better at float32\n",
    "x_train = x_train.astype(np.float32)\n",
    "x_test = x_test.astype(np.float32)\n",
    "y_train = y_train.astype(np.float32)\n",
    "y_test = y_test.astype(np.float32)"
   ]
  },
  {
   "cell_type": "code",
   "execution_count": 4,
   "metadata": {},
   "outputs": [
    {
     "name": "stdout",
     "output_type": "stream",
     "text": [
      "Memory growth enabled\n"
     ]
    }
   ],
   "source": [
    "gpus = tf.config.experimental.list_physical_devices('GPU')\n",
    "if gpus:\n",
    "    try:\n",
    "        for gpu in gpus:\n",
    "            tf.config.experimental.set_memory_growth(gpu, True)\n",
    "        print(\"Memory growth enabled\")\n",
    "    except RuntimeError as e:\n",
    "        print(\"Memory growth setup failed:\", e)\n"
   ]
  },
  {
   "cell_type": "code",
   "execution_count": 5,
   "metadata": {},
   "outputs": [],
   "source": [
    "import tensorflow as tf\n",
    "from tensorflow.keras.callbacks import ModelCheckpoint, EarlyStopping\n",
    "\n",
    "# Build model\n",
    "input_shape = x_train.shape[1:]  # (256, 256, 1) for grayscale\n",
    "model = build_unet(input_shape=(256, 256, 1), output_channels=2, use_scaling=False) # 2 output channels for HSV\n",
    "\n",
    "\n",
    "# Combined loss with correct dtype\n",
    "def combined_loss(y_true, y_pred):\n",
    "    mse = tf.keras.losses.MeanSquaredError()(y_true, y_pred)\n",
    "    mae = tf.keras.losses.MeanAbsoluteError()(y_true, y_pred)\n",
    "    loss = 0.84 * mse + 0.16 * mae\n",
    "    return tf.cast(loss, tf.float32)\n",
    "\n",
    "model.compile(\n",
    "    optimizer=tf.keras.optimizers.Adam(learning_rate=1e-4),\n",
    "    loss=combined_loss,\n",
    "    metrics=['mae']\n",
    ")\n",
    "\n",
    "# Callbacks\n",
    "checkpoint_cb = ModelCheckpoint(\"U-NET_HSV_best_model_v2.keras\", save_best_only=True, monitor='val_loss', mode='min')\n",
    "earlystop_cb = EarlyStopping(patience=20, restore_best_weights=True)"
   ]
  },
  {
   "cell_type": "code",
   "execution_count": 6,
   "metadata": {},
   "outputs": [
    {
     "name": "stdout",
     "output_type": "stream",
     "text": [
      "x_train: (256, 256, 256, 1)\n",
      "y_train: (256, 256, 256, 2)\n",
      "x_test: (64, 256, 256, 1)\n",
      "y_test: (64, 256, 256, 2)\n",
      "Model input: (None, 256, 256, 1)\n",
      "Model output: (None, 256, 256, 2)\n"
     ]
    }
   ],
   "source": [
    "print(\"x_train:\", x_train.shape)\n",
    "print(\"y_train:\", y_train.shape)\n",
    "print(\"x_test:\", x_test.shape)\n",
    "print(\"y_test:\", y_test.shape)\n",
    "\n",
    "print(\"Model input:\", model.input_shape)\n",
    "print(\"Model output:\", model.output_shape)\n"
   ]
  },
  {
   "cell_type": "code",
   "execution_count": 7,
   "metadata": {},
   "outputs": [
    {
     "name": "stdout",
     "output_type": "stream",
     "text": [
      "x_train dtype: float32\n",
      "y_train dtype: float32\n",
      "Model output dtype: <dtype: 'float16'>\n"
     ]
    }
   ],
   "source": [
    "print(\"x_train dtype:\", x_train.dtype)\n",
    "print(\"y_train dtype:\", y_train.dtype)\n",
    "print(\"Model output dtype:\", model.output.dtype)\n"
   ]
  },
  {
   "cell_type": "markdown",
   "metadata": {},
   "source": [
    "Training loop "
   ]
  },
  {
   "cell_type": "code",
   "execution_count": 8,
   "metadata": {},
   "outputs": [
    {
     "name": "stdout",
     "output_type": "stream",
     "text": [
      "Epoch 1/300\n",
      "8/8 [==============================] - 27s 408ms/step - loss: nan - mae: 0.5676 - val_loss: nan - val_mae: 0.3559\n",
      "Epoch 2/300\n",
      "8/8 [==============================] - 3s 368ms/step - loss: nan - mae: 0.5680 - val_loss: nan - val_mae: 0.3575\n",
      "Epoch 3/300\n",
      "8/8 [==============================] - 3s 370ms/step - loss: nan - mae: 0.5677 - val_loss: nan - val_mae: 0.3497\n",
      "Epoch 4/300\n",
      "8/8 [==============================] - 3s 369ms/step - loss: nan - mae: 0.5679 - val_loss: nan - val_mae: 0.3425\n",
      "Epoch 5/300\n",
      "8/8 [==============================] - 3s 369ms/step - loss: nan - mae: 0.5678 - val_loss: nan - val_mae: 0.3375\n",
      "Epoch 6/300\n",
      "8/8 [==============================] - 3s 369ms/step - loss: nan - mae: 0.5682 - val_loss: nan - val_mae: 0.3341\n",
      "Epoch 7/300\n",
      "8/8 [==============================] - 3s 368ms/step - loss: nan - mae: 0.5679 - val_loss: nan - val_mae: 0.3317\n",
      "Epoch 8/300\n",
      "8/8 [==============================] - 3s 380ms/step - loss: nan - mae: 0.5677 - val_loss: nan - val_mae: 0.3304\n",
      "Epoch 9/300\n",
      "8/8 [==============================] - 3s 370ms/step - loss: nan - mae: 0.5678 - val_loss: nan - val_mae: 0.3298\n",
      "Epoch 10/300\n",
      "8/8 [==============================] - 3s 369ms/step - loss: nan - mae: 0.5677 - val_loss: nan - val_mae: 0.3298\n",
      "Epoch 11/300\n",
      "8/8 [==============================] - 3s 373ms/step - loss: nan - mae: 0.5681 - val_loss: nan - val_mae: 0.3301\n",
      "Epoch 12/300\n",
      "8/8 [==============================] - 3s 371ms/step - loss: nan - mae: 0.5677 - val_loss: nan - val_mae: 0.3306\n",
      "Epoch 13/300\n",
      "8/8 [==============================] - 3s 370ms/step - loss: nan - mae: 0.5680 - val_loss: nan - val_mae: 0.3311\n",
      "Epoch 14/300\n",
      "8/8 [==============================] - 3s 372ms/step - loss: nan - mae: 0.5679 - val_loss: nan - val_mae: 0.3317\n",
      "Epoch 15/300\n",
      "8/8 [==============================] - 3s 372ms/step - loss: nan - mae: 0.5681 - val_loss: nan - val_mae: 0.3325\n",
      "Epoch 16/300\n",
      "8/8 [==============================] - 3s 370ms/step - loss: nan - mae: 0.5680 - val_loss: nan - val_mae: 0.3335\n",
      "Epoch 17/300\n",
      "8/8 [==============================] - 3s 369ms/step - loss: nan - mae: 0.5678 - val_loss: nan - val_mae: 0.3348\n",
      "Epoch 18/300\n",
      "8/8 [==============================] - 3s 372ms/step - loss: nan - mae: 0.5681 - val_loss: nan - val_mae: 0.3364\n",
      "Epoch 19/300\n",
      "8/8 [==============================] - 3s 372ms/step - loss: nan - mae: 0.5684 - val_loss: nan - val_mae: 0.3383\n",
      "Epoch 20/300\n",
      "8/8 [==============================] - 3s 375ms/step - loss: nan - mae: 0.5681 - val_loss: nan - val_mae: 0.3403\n",
      "Saved best and final model.\n"
     ]
    }
   ],
   "source": [
    "import tensorflow as tf\n",
    "tf.keras.backend.clear_session() # Clear GPU memory before training\n",
    "\n",
    "# Train\n",
    "history = model.fit(\n",
    "    x_train, y_train,\n",
    "    validation_data=(x_test, y_test),\n",
    "    epochs=300,\n",
    "    batch_size=32,\n",
    "    callbacks=[checkpoint_cb, earlystop_cb]\n",
    ")\n",
    "\n",
    "# Save training history to CSV\n",
    "import pandas as pd\n",
    "pd.DataFrame(history.history).to_csv(\"training_log_hsv.csv\", index=False)\n",
    "\n",
    "model.save(\"U-NET_HSV_final_trained_v2.keras\")\n",
    "print(\"Saved best and final model.\")\n"
   ]
  },
  {
   "cell_type": "code",
   "execution_count": 9,
   "metadata": {},
   "outputs": [
    {
     "data": {
      "text/plain": [
       "<Axes: >"
      ]
     },
     "execution_count": 9,
     "metadata": {},
     "output_type": "execute_result"
    },
    {
     "data": {
      "image/png": "[encoded data removed]",
      "text/plain": [
       "<Figure size 640x480 with 1 Axes>"
      ]
     },
     "metadata": {},
     "output_type": "display_data"
    }
   ],
   "source": [
    "pd.DataFrame(history.history)[['loss', 'val_loss']].plot()"
   ]
  },
  {
   "cell_type": "code",
   "execution_count": 10,
   "metadata": {},
   "outputs": [
    {
     "name": "stdout",
     "output_type": "stream",
     "text": [
      "2/2 [==============================] - 0s 81ms/step\n",
      "Pred min/max: -0.0744 0.05682\n",
      "GT min/max: 0.0 1.0\n"
     ]
    }
   ],
   "source": [
    "predictions = model.predict(x_test[:100])\n",
    "print(\"Pred min/max:\", predictions.min(), predictions.max())\n",
    "print(\"GT min/max:\", y_test[:100].min(), y_test[:100].max())"
   ]
  },
  {
   "cell_type": "code",
   "execution_count": 11,
   "metadata": {},
   "outputs": [],
   "source": [
    "# Convert HSV channels to RGB image for plotting\n",
    "def hsv_to_rgb_img(hs_channels, v_channel): \n",
    "    H = (hs_channels[..., 0] * 179).astype(np.uint8)\n",
    "    S = (hs_channels[..., 1] * 255).astype(np.uint8)\n",
    "    V = (v_channel.squeeze() * 255).astype(np.uint8)\n",
    "\n",
    "    hsv_img = np.stack([H, S, V], axis=-1)\n",
    "    rgb_img = cv2.cvtColor(hsv_img, cv2.COLOR_HSV2RGB)\n",
    "    return rgb_img\n"
   ]
  },
  {
   "cell_type": "code",
   "execution_count": 12,
   "metadata": {},
   "outputs": [],
   "source": [
    "# Visualize some results\n",
    "def plot_results(model, x, y, num_samples=10):\n",
    "    predictions = model.predict(x[:num_samples])\n",
    "\n",
    "    fig, axes = plt.subplots(num_samples, 3, figsize=(15, 5 * num_samples))\n",
    "    titles = ['Grayscale Input', 'Predicted Color', 'Ground Truth']\n",
    "\n",
    "    for i in range(num_samples):\n",
    "        axes[i, 0].imshow(x[i].squeeze(), cmap='gray')\n",
    "\n",
    "        hs_pred = ((predictions[i] * 0.5 + 0.5).clip(0, 1))  # scale HS\n",
    "        hs_true = ((y[i] * 0.5 + 0.5).clip(0, 1))\n",
    "\n",
    "        pred_rgb = hsv_to_rgb_img(hs_pred, x[i])  # use V from input\n",
    "        true_rgb = hsv_to_rgb_img(hs_true, x[i])\n",
    "\n",
    "        axes[i, 1].imshow(pred_rgb)\n",
    "        axes[i, 2].imshow(true_rgb)\n",
    "\n",
    "        for j in range(3):\n",
    "            axes[i, j].axis('off')\n",
    "            if i == 0:\n",
    "                axes[i, j].set_title(titles[j])\n",
    "\n",
    "    plt.tight_layout()\n",
    "    plt.show()\n"
   ]
  },
  {
   "cell_type": "code",
   "execution_count": 13,
   "metadata": {},
   "outputs": [
    {
     "data": {
      "image/png": "[encoded data removed]",
      "text/plain": [
       "<Figure size 1400x600 with 2 Axes>"
      ]
     },
     "metadata": {},
     "output_type": "display_data"
    }
   ],
   "source": [
    "import pandas as pd\n",
    "import matplotlib.pyplot as plt\n",
    "\n",
    "# Reload training log\n",
    "log_path = \"training_log_hsv.csv\"\n",
    "df = pd.read_csv(log_path)\n",
    "\n",
    "# Plot loss and MAE\n",
    "plt.figure(figsize=(14, 6))\n",
    "\n",
    "plt.subplot(1, 2, 1)\n",
    "plt.plot(df[\"loss\"], label=\"Train Loss\")\n",
    "plt.plot(df[\"val_loss\"], label=\"Val Loss\")\n",
    "plt.title(\"Loss Over Epochs\")\n",
    "plt.xlabel(\"Epoch\")\n",
    "plt.ylabel(\"Loss\")\n",
    "plt.legend()\n",
    "\n",
    "plt.subplot(1, 2, 2)\n",
    "plt.plot(df[\"mae\"], label=\"Train MAE\")\n",
    "plt.plot(df[\"val_mae\"], label=\"Val MAE\")\n",
    "plt.title(\"MAE Over Epochs\")\n",
    "plt.xlabel(\"Epoch\")\n",
    "plt.ylabel(\"Mean Absolute Error\")\n",
    "plt.legend()\n",
    "\n",
    "plt.tight_layout()\n",
    "plt.show()"
   ]
  }
 ],
 "metadata": {
  "kernelspec": {
   "display_name": ".venv",
   "language": "python",
   "name": "python3"
  },
  "language_info": {
   "codemirror_mode": {
    "name": "ipython",
    "version": 3
   },
   "file_extension": ".py",
   "mimetype": "text/x-python",
   "name": "python",
   "nbconvert_exporter": "python",
   "pygments_lexer": "ipython3",
   "version": "3.10.11"
  }
 },
 "nbformat": 4,
 "nbformat_minor": 2
}
