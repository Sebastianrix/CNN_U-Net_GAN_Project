{
 "cells": [
  {
   "cell_type": "markdown",
   "id": "3e476565",
   "metadata": {},
   "source": [
    "<div class=\"alert alert-block alert-warning\">\n",
    "\n",
    "# **LoadComicData_lab.ipynb**\n",
    "***\n",
    "### **This script loads comic book images for LAB neural network training. The images are made in a pair of one colored, and one grayscaled.**\n"
   ]
  },
  {
   "cell_type": "code",
   "execution_count": 14,
   "id": "8492234b",
   "metadata": {},
   "outputs": [],
   "source": [
    "import os\n",
    "import glob\n",
    "import cv2\n",
    "import numpy as np\n",
    "import matplotlib.pyplot as plt\n",
    "from tqdm import tqdm"
   ]
  },
  {
   "cell_type": "markdown",
   "id": "8049fb26",
   "metadata": {},
   "source": [
    "### Loads API-key"
   ]
  },
  {
   "cell_type": "code",
   "execution_count": null,
   "id": "73e1d10d",
   "metadata": {},
   "outputs": [],
   "source": [
    "os.environ['KAGGLE_CONFIG_DIR'] = '..\\API Key here'"
   ]
  },
  {
   "cell_type": "markdown",
   "id": "6dd70e3b",
   "metadata": {},
   "source": [
    "### Download the dataset - **Warning it's 2 GB**"
   ]
  },
  {
   "cell_type": "code",
   "execution_count": 16,
   "id": "f8f2fc25",
   "metadata": {},
   "outputs": [
    {
     "name": "stdout",
     "output_type": "stream",
     "text": [
      "Downloading dataset from Kaggle...\n"
     ]
    },
    {
     "name": "stderr",
     "output_type": "stream",
     "text": [
      "Traceback (most recent call last):\n",
      "  File \"C:\\Users\\sebas\\AppData\\Local\\Programs\\Python\\Python310\\lib\\runpy.py\", line 196, in _run_module_as_main\n",
      "    return _run_code(code, main_globals, None,\n",
      "  File \"C:\\Users\\sebas\\AppData\\Local\\Programs\\Python\\Python310\\lib\\runpy.py\", line 86, in _run_code\n",
      "    exec(code, run_globals)\n",
      "  File \"c:\\Users\\sebas\\Desktop\\PythonMetaRepo\\CNN_U-Net_GAN_Project\\.venv\\Scripts\\kaggle.exe\\__main__.py\", line 7, in <module>\n",
      "  File \"c:\\Users\\sebas\\Desktop\\PythonMetaRepo\\CNN_U-Net_GAN_Project\\.venv\\lib\\site-packages\\kaggle\\cli.py\", line 68, in main\n",
      "    out = args.func(**command_args)\n",
      "  File \"c:\\Users\\sebas\\Desktop\\PythonMetaRepo\\CNN_U-Net_GAN_Project\\.venv\\lib\\site-packages\\kaggle\\api\\kaggle_api_extended.py\", line 1741, in dataset_download_cli\n",
      "    with self.build_kaggle_client() as kaggle:\n",
      "  File \"c:\\Users\\sebas\\Desktop\\PythonMetaRepo\\CNN_U-Net_GAN_Project\\.venv\\lib\\site-packages\\kaggle\\api\\kaggle_api_extended.py\", line 688, in build_kaggle_client\n",
      "    username=self.config_values['username'],\n",
      "KeyError: 'username'\n"
     ]
    }
   ],
   "source": [
    "print(\"Downloading dataset from Kaggle...\")\n",
    "!kaggle datasets download -d cenkbircanoglu/comic-books-classification -p comic_dataset --unzip"
   ]
  },
  {
   "cell_type": "markdown",
   "id": "7bd6fcf2",
   "metadata": {},
   "source": [
    "### Process images into grayscale and colored pairs and splitting some proportion of the data into training data and test data. "
   ]
  },
  {
   "cell_type": "code",
   "execution_count": 5,
   "id": "eac738cf",
   "metadata": {},
   "outputs": [
    {
     "ename": "ModuleNotFoundError",
     "evalue": "No module named 'sklearn'",
     "output_type": "error",
     "traceback": [
      "\u001b[1;31m---------------------------------------------------------------------------\u001b[0m",
      "\u001b[1;31mModuleNotFoundError\u001b[0m                       Traceback (most recent call last)",
      "Cell \u001b[1;32mIn[5], line 1\u001b[0m\n\u001b[1;32m----> 1\u001b[0m \u001b[38;5;28;01mfrom\u001b[39;00m\u001b[38;5;250m \u001b[39m\u001b[38;5;21;01msklearn\u001b[39;00m\u001b[38;5;21;01m.\u001b[39;00m\u001b[38;5;21;01mmodel_selection\u001b[39;00m\u001b[38;5;250m \u001b[39m\u001b[38;5;28;01mimport\u001b[39;00m train_test_split\n\u001b[0;32m      3\u001b[0m input_images \u001b[38;5;241m=\u001b[39m []\n\u001b[0;32m      4\u001b[0m output_images \u001b[38;5;241m=\u001b[39m []\n",
      "\u001b[1;31mModuleNotFoundError\u001b[0m: No module named 'sklearn'"
     ]
    }
   ],
   "source": [
    "from sklearn.model_selection import train_test_split\n",
    "\n",
    "input_images = []\n",
    "output_images = []\n",
    "\n",
    "image_paths = glob.glob('comic_dataset/**/*.jpg', recursive=True)\n",
    "print(f\"Found {len(image_paths)} images.\")\n",
    "\n",
    "for path in tqdm(image_paths[:2000]):\n",
    "    color_img = cv2.imread(path)\n",
    "    if color_img is None:\n",
    "        continue\n",
    "    color_img = cv2.resize(color_img, (256, 256))\n",
    "    lab_img = cv2.cvtColor(color_img, cv2.COLOR_BGR2LAB)\n",
    "\n",
    "    l_channel = lab_img[..., 0:1] / 255.0                # Input grayscale (L)\n",
    "    ab_channels = (lab_img[..., 1:] / 128.0) - 1.0       # Output color (AB), scaled to [-1, 1]\n",
    "\n",
    "    input_images.append(l_channel)\n",
    "    output_images.append(ab_channels)\n",
    "\n",
    "X = np.array(input_images)\n",
    "Y = np.array(output_images)\n",
    "\n",
    "\n",
    "print(f\"Input shape: {X.shape}, Output shape: {Y.shape}\")\n",
    "\n",
    "# Split to avoid testing on same data the model is trained on. 20% (0.2) goes to testing  \n",
    "X_train, X_test, y_train, y_test = train_test_split(\n",
    "    input_images, output_images, test_size=0.2, random_state=42)"
   ]
  },
  {
   "cell_type": "markdown",
   "id": "efe1370f",
   "metadata": {},
   "source": [
    "### Save processed data"
   ]
  },
  {
   "cell_type": "code",
   "execution_count": null,
   "id": "63048c72",
   "metadata": {},
   "outputs": [],
   "source": [
    "# Creates folder if it doesn't exist yet\n",
    "os.makedirs(\"prepared_data/LAB\", exist_ok=True)\n",
    "\n",
    "# Saves files\n",
    "np.save(\"prepared_data/LAB/comic_input_grayscale_train.npy\", X_train)\n",
    "np.save(\"prepared_data/LAB/comic_output_color_train.npy\", y_train)\n",
    "np.save(\"prepared_data/LAB/comic_input_grayscale_test.npy\", X_test)\n",
    "np.save(\"prepared_data/LAB/comic_output_color_test.npy\", y_test)\n",
    "print(\"LAB data saved to prepared_data/LAB/\")"
   ]
  },
  {
   "cell_type": "markdown",
   "id": "0a5e95e2",
   "metadata": {},
   "source": [
    "### Display processed data to confirm stuff is working."
   ]
  },
  {
   "cell_type": "code",
   "execution_count": null,
   "id": "affcbacc",
   "metadata": {},
   "outputs": [],
   "source": [
    "num_samples = 10\n",
    "plt.figure(figsize=(12, 4))\n",
    "for i in range(num_samples):\n",
    "    plt.subplot(2, num_samples, i+1)\n",
    "    plt.imshow(X[i].squeeze(), cmap='gray')\n",
    "    plt.title(\"Grayscale\")\n",
    "    plt.axis('off')\n",
    "\n",
    "    plt.subplot(2, num_samples, i+1+num_samples)\n",
    "    plt.imshow(Y[i])\n",
    "    plt.title(\"Color\")\n",
    "    plt.axis('off')\n",
    "plt.tight_layout()\n",
    "plt.show()"
   ]
  },
  {
   "cell_type": "code",
   "execution_count": null,
   "id": "f4bfe8c1",
   "metadata": {},
   "outputs": [],
   "source": [
    "# Display from test \n",
    "plt.subplot(1, 2, 1)\n",
    "plt.imshow(X_test[0].squeeze(), cmap='gray')\n",
    "plt.title(\"Grayscale Input\")\n",
    "plt.axis('off')\n",
    "\n",
    "plt.subplot(1, 2, 2)\n",
    "plt.imshow(y_test[0])\n",
    "plt.title(\"Color Output\")\n",
    "plt.axis('off')\n",
    "plt.show()"
   ]
  },
  {
   "cell_type": "code",
   "execution_count": null,
   "id": "0de859bc",
   "metadata": {},
   "outputs": [],
   "source": [
    "# Display from train\n",
    "plt.subplot(1, 2, 1)\n",
    "plt.imshow(X_train[0].squeeze(), cmap='gray')\n",
    "plt.title(\"Grayscale Input\")\n",
    "plt.axis('off')\n",
    "\n",
    "plt.subplot(1, 2, 2)\n",
    "plt.imshow(y_train[0])\n",
    "plt.title(\"Color Output\")\n",
    "plt.axis('off')\n",
    "plt.show()\n"
   ]
  }
 ],
 "metadata": {
  "kernelspec": {
   "display_name": ".venv",
   "language": "python",
   "name": "python3"
  },
  "language_info": {
   "codemirror_mode": {
    "name": "ipython",
    "version": 3
   },
   "file_extension": ".py",
   "mimetype": "text/x-python",
   "name": "python",
   "nbconvert_exporter": "python",
   "pygments_lexer": "ipython3",
   "version": "3.10.11"
  }
 },
 "nbformat": 4,
 "nbformat_minor": 5
}
