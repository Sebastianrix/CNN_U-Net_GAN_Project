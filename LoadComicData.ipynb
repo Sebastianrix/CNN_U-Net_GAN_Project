{
 "cells": [
  {
   "cell_type": "markdown",
   "id": "3e476565",
   "metadata": {},
   "source": [
    "<div class=\"alert alert-block alert-info\">\n",
    "\n",
    "# **LoadComicData.ipynb**\n",
    "***\n",
    "### **This script loads comic book images for neural network training. The images are made in a pair of one colored, and one grayscaled.**\n"
   ]
  },
  {
   "cell_type": "code",
   "execution_count": null,
   "id": "8492234b",
   "metadata": {},
   "outputs": [],
   "source": [
    "import os\n",
    "import glob\n",
    "import cv2\n",
    "import numpy as np\n",
    "import matplotlib.pyplot as plt\n",
    "from tqdm import tqdm"
   ]
  },
  {
   "cell_type": "markdown",
   "id": "8049fb26",
   "metadata": {},
   "source": [
    "### Loads API-key"
   ]
  },
  {
   "cell_type": "code",
   "execution_count": null,
   "id": "73e1d10d",
   "metadata": {},
   "outputs": [],
   "source": [
    "os.environ['KAGGLE_CONFIG_DIR'] = 'CNN_U-Net_GAN_Project\\kaggle.json'"
   ]
  },
  {
   "cell_type": "markdown",
   "id": "6dd70e3b",
   "metadata": {},
   "source": [
    "### Download the dataset"
   ]
  },
  {
   "cell_type": "code",
   "execution_count": null,
   "id": "f8f2fc25",
   "metadata": {},
   "outputs": [],
   "source": [
    "print(\"Downloading dataset from Kaggle...\")\n",
    "!kaggle datasets download -d cenkbircanoglu/comic-books-classification -p comic_dataset --unzip"
   ]
  },
  {
   "cell_type": "markdown",
   "id": "7bd6fcf2",
   "metadata": {},
   "source": [
    "### Process images into grayscale and colored pairs"
   ]
  },
  {
   "cell_type": "code",
   "execution_count": null,
   "id": "eac738cf",
   "metadata": {},
   "outputs": [],
   "source": [
    "input_images = []\n",
    "output_images = []\n",
    "\n",
    "image_paths = glob.glob('comic_dataset/**/*.jpg', recursive=True)\n",
    "print(f\"Found {len(image_paths)} images.\")\n",
    "\n",
    "for path in tqdm(image_paths[:2000]):  # Ajustiable limit of how many image we want\n",
    "    color_img = cv2.imread(path)\n",
    "    if color_img is None:\n",
    "        continue\n",
    "    color_img = cv2.resize(color_img, (256, 256))\n",
    "    gray_img = cv2.cvtColor(color_img, cv2.COLOR_BGR2GRAY)\n",
    "    gray_img = np.expand_dims(gray_img, axis=-1)\n",
    "\n",
    "    color_img = color_img / 255.0\n",
    "    gray_img = gray_img / 255.0\n",
    "\n",
    "    input_images.append(gray_img)\n",
    "    output_images.append(color_img)\n",
    "\n",
    "    X = np.array(input_images)\n",
    "    Y = np.array(output_images)\n",
    "\n",
    "    print(f\"Input shape: {X.shape}, Output shape: {Y.shape}\")\n"
   ]
  },
  {
   "cell_type": "markdown",
   "id": "efe1370f",
   "metadata": {},
   "source": [
    "### Save processed data"
   ]
  },
  {
   "cell_type": "code",
   "execution_count": null,
   "id": "63048c72",
   "metadata": {},
   "outputs": [],
   "source": [
    "# Makes a folder\n",
    "os.makedirs(\"prepared_data\", exist_ok=True)\n",
    "# Saves files\n",
    "np.save(\"prepared_data/comic_input_grayscale.npy\", X)\n",
    "np.save(\"prepared_data/comic_output_color.npy\", Y)\n",
    "print(\"Data saved to prepared_data/\")"
   ]
  },
  {
   "cell_type": "markdown",
   "id": "0a5e95e2",
   "metadata": {},
   "source": [
    "### Display processed data to confirm stuff is working."
   ]
  },
  {
   "cell_type": "code",
   "execution_count": null,
   "id": "bf99df95",
   "metadata": {},
   "outputs": [],
   "source": [
    "num_samples = 5\n",
    "plt.figure(figsize=(12, 4))\n",
    "for i in range(num_samples):\n",
    "    plt.subplot(2, num_samples, i+1)\n",
    "    plt.imshow(X[i].squeeze(), cmap='gray')\n",
    "    plt.title(\"Grayscale\")\n",
    "    plt.axis('off')\n",
    "\n",
    "    plt.subplot(2, num_samples, i+1+num_samples)\n",
    "    plt.imshow(Y[i])\n",
    "    plt.title(\"Color\")\n",
    "    plt.axis('off')\n",
    "plt.tight_layout()\n",
    "plt.show()"
   ]
  }
 ],
 "metadata": {
  "kernelspec": {
   "display_name": "Python 3",
   "language": "python",
   "name": "python3"
  },
  "language_info": {
   "codemirror_mode": {
    "name": "ipython",
    "version": 3
   },
   "file_extension": ".py",
   "mimetype": "text/x-python",
   "name": "python",
   "nbconvert_exporter": "python",
   "pygments_lexer": "ipython3",
   "version": "3.10.11"
  }
 },
 "nbformat": 4,
 "nbformat_minor": 5
}
