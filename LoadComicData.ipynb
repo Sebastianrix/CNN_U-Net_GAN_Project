{
 "cells": [
  {
   "cell_type": "markdown",
   "id": "3e476565",
   "metadata": {},
   "source": [
    "<div class=\"alert alert-block alert-info\">\n",
    "\n",
    "# **LoadComicData.ipynb**\n",
    "***\n",
    "### **This script loads comic book images for neural network training. The images are made in a pair of one colored, and one grayscaled.**\n"
   ]
  },
  {
   "cell_type": "code",
   "execution_count": 3,
   "id": "8492234b",
   "metadata": {},
   "outputs": [],
   "source": [
    "import os\n",
    "import zipfile\n",
    "import tarfile\n",
    "import glob\n",
    "import cv2\n",
    "import numpy as np\n",
    "from tqdm import tqdm"
   ]
  },
  {
   "cell_type": "code",
   "execution_count": 4,
   "id": "73e1d10d",
   "metadata": {},
   "outputs": [],
   "source": [
    "os.environ['KAGGLE_CONFIG_DIR'] = 'CNN_U-Net_GAN_Project\\kaggle.json'"
   ]
  },
  {
   "cell_type": "code",
   "execution_count": 10,
   "id": "f8f2fc25",
   "metadata": {},
   "outputs": [
    {
     "name": "stdout",
     "output_type": "stream",
     "text": [
      "Downloading dataset from Kaggle...\n",
      "Dataset URL: https://www.kaggle.com/datasets/cenkbircanoglu/comic-books-classification\n",
      "License(s): GPL-2.0\n",
      "Downloading comic-books-classification.zip to comic_dataset\n",
      "\n"
     ]
    },
    {
     "name": "stderr",
     "output_type": "stream",
     "text": [
      "\n",
      "  0%|          | 0.00/2.27G [00:00<?, ?B/s]\n",
      "  7%|▋         | 158M/2.27G [00:00<00:01, 1.66GB/s]\n",
      " 14%|█▍        | 328M/2.27G [00:00<00:01, 1.72GB/s]\n",
      " 21%|██▏       | 499M/2.27G [00:00<00:01, 1.75GB/s]\n",
      " 29%|██▊       | 666M/2.27G [00:00<00:01, 1.74GB/s]\n",
      " 36%|███▌      | 833M/2.27G [00:00<00:00, 1.74GB/s]\n",
      " 43%|████▎     | 0.98G/2.27G [00:00<00:00, 1.76GB/s]\n",
      " 51%|█████     | 1.15G/2.27G [00:00<00:00, 1.78GB/s]\n",
      " 58%|█████▊    | 1.32G/2.27G [00:01<00:01, 634MB/s] \n",
      " 65%|██████▍   | 1.47G/2.27G [00:01<00:01, 773MB/s]\n",
      " 72%|███████▏  | 1.64G/2.27G [00:01<00:00, 944MB/s]\n",
      " 80%|███████▉  | 1.81G/2.27G [00:01<00:00, 1.11GB/s]\n",
      " 87%|████████▋ | 1.97G/2.27G [00:01<00:00, 1.25GB/s]\n",
      " 94%|█████████▍| 2.14G/2.27G [00:01<00:00, 1.38GB/s]\n",
      "100%|██████████| 2.27G/2.27G [00:03<00:00, 717MB/s] \n"
     ]
    }
   ],
   "source": [
    "print(\"Downloading dataset from Kaggle...\")\n",
    "!kaggle datasets download -d cenkbircanoglu/comic-books-classification -p comic_dataset --unzip"
   ]
  },
  {
   "cell_type": "markdown",
   "id": "7bd6fcf2",
   "metadata": {},
   "source": [
    "### Extract the ZIP file"
   ]
  },
  {
   "cell_type": "code",
   "execution_count": null,
   "id": "eac738cf",
   "metadata": {},
   "outputs": [],
   "source": [
    "def extract_dataset(zip_path, extract_to):\n",
    "    print(\"Unzipping dataset...\")\n",
    "    with zipfile.ZipFile(zip_path, 'r') as zip_ref:\n",
    "        zip_ref.extractall(extract_to)"
   ]
  },
  {
   "cell_type": "markdown",
   "id": "efe1370f",
   "metadata": {},
   "source": [
    "### Extract the TAR.GZ inside the unzipped folder"
   ]
  },
  {
   "cell_type": "code",
   "execution_count": null,
   "id": "63048c72",
   "metadata": {},
   "outputs": [],
   "source": [
    "def extract_tar_gz(tar_gz_path, extract_to):\n",
    "    print(\"Extracting .tar.gz archive...\")\n",
    "    with tarfile.open(tar_gz_path, 'r:gz') as tar_ref:\n",
    "        tar_ref.extractall(extract_to)"
   ]
  },
  {
   "cell_type": "markdown",
   "id": "0a5e95e2",
   "metadata": {},
   "source": [
    "### Load and process images"
   ]
  },
  {
   "cell_type": "code",
   "execution_count": null,
   "id": "bf99df95",
   "metadata": {},
   "outputs": [],
   "source": []
  }
 ],
 "metadata": {
  "kernelspec": {
   "display_name": "Python 3",
   "language": "python",
   "name": "python3"
  },
  "language_info": {
   "codemirror_mode": {
    "name": "ipython",
    "version": 3
   },
   "file_extension": ".py",
   "mimetype": "text/x-python",
   "name": "python",
   "nbconvert_exporter": "python",
   "pygments_lexer": "ipython3",
   "version": "3.10.11"
  }
 },
 "nbformat": 4,
 "nbformat_minor": 5
}
