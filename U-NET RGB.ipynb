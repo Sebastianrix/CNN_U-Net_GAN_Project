{
 "cells": [
  {
   "cell_type": "markdown",
   "metadata": {},
   "source": [
    "<!-- RGB Model -->\n",
    "<div class=\"alert\" style=\"background: linear-gradient(to right,rgb(255, 0, 0), rgb(0,255,0),rgb(0, 0, 255)); \n",
    "color:rgb(255, 255, 255);\">\n",
    "\n",
    "# **U-NET RGB Colorization Model**\n",
    "***\n",
    "### **U-NET RGB Colorization Model.**\n"
   ]
  },
  {
   "cell_type": "code",
   "execution_count": null,
   "metadata": {},
   "outputs": [],
   "source": [
    "import numpy as np\n",
    "import matplotlib.pyplot as plt\n",
    "from tensorflow.keras import layers, models\n",
    "from tensorflow.keras.models import load_model"
   ]
  },
  {
   "cell_type": "code",
   "execution_count": null,
   "metadata": {},
   "outputs": [],
   "source": [
    "# Load processed data. Important to run LoadComicData.ipynb first\n",
    "X_train = np.load(\"prepared_data/comic_input_grayscale_train.npy\")\n",
    "y_train = np.load(\"prepared_data/comic_output_color_train.npy\")\n",
    "X_test  = np.load(\"prepared_data/comic_input_grayscale_test.npy\")\n",
    "y_test  = np.load(\"prepared_data/comic_output_color_test.npy\")"
   ]
  },
  {
   "cell_type": "code",
   "execution_count": null,
   "metadata": {},
   "outputs": [],
   "source": [
    "# Define the U-Net model\n",
    "def build_unet(input_shape):\n",
    "    inputs = layers.Input(shape=input_shape)\n",
    "\n",
    "    # Encoder\n",
    "    c1 = layers.Conv2D(64, (3, 3), activation='relu', padding='same')(inputs)\n",
    "    p1 = layers.MaxPooling2D((2, 2))(c1)\n",
    "\n",
    "    c2 = layers.Conv2D(128, (3, 3), activation='relu', padding='same')(p1)\n",
    "    p2 = layers.MaxPooling2D((2, 2))(c2)\n",
    "\n",
    "    # Bottleneck\n",
    "    bn = layers.Conv2D(256, (3, 3), activation='relu', padding='same')(p2)\n",
    "\n",
    "    # Decoder\n",
    "    u1 = layers.Conv2DTranspose(128, (3, 3), strides=2, padding='same', activation='relu')(bn)\n",
    "    concat1 = layers.Concatenate()([u1, c2])\n",
    "    \n",
    "    u2 = layers.Conv2DTranspose(64, (3, 3), strides=2, padding='same', activation='relu')(concat1)\n",
    "    concat2 = layers.Concatenate()([u2, c1])\n",
    "\n",
    "    outputs = layers.Conv2D(3, (1, 1), activation='sigmoid')(concat2)\n",
    "\n",
    "    model = models.Model(inputs, outputs)\n",
    "    return model"
   ]
  },
  {
   "cell_type": "code",
   "execution_count": null,
   "metadata": {},
   "outputs": [],
   "source": [
    "# Build and compile the model\n",
    "input_shape = X_train.shape[1:]  # (256, 256, 1)\n",
    "model = build_unet(input_shape)\n",
    "model.compile(optimizer='adam', loss='mean_squared_error')\n",
    "model.summary()"
   ]
  },
  {
   "cell_type": "code",
   "execution_count": null,
   "metadata": {},
   "outputs": [],
   "source": [
    "# Train the model\n",
    "history = model.fit(\n",
    "    X_train, y_train,\n",
    "    validation_data=(X_test, y_test),\n",
    "    epochs=50,\n",
    "    batch_size=16\n",
    ")"
   ]
  },
  {
   "cell_type": "code",
   "execution_count": null,
   "metadata": {},
   "outputs": [],
   "source": [
    "# Save the trained model\n",
    "model.save(\"unet_colorization_rgb_comics.keras\")\n",
    "print(\"Model saved as 'unet_colorization_rgb_comics.keras'\")"
   ]
  }
 ],
 "metadata": {
  "kernelspec": {
   "display_name": "Python 3",
   "language": "python",
   "name": "python3"
  },
  "language_info": {
   "codemirror_mode": {
    "name": "ipython",
    "version": 3
   },
   "file_extension": ".py",
   "mimetype": "text/x-python",
   "name": "python",
   "nbconvert_exporter": "python",
   "pygments_lexer": "ipython3",
   "version": "3.10.11"
  }
 },
 "nbformat": 4,
 "nbformat_minor": 2
}
