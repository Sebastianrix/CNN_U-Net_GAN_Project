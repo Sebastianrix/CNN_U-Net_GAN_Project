{
 "cells": [
  {
   "cell_type": "markdown",
   "metadata": {},
   "source": [
    "<!-- LAB U-Net Model -->\n",
    "<div class=\"alert\" style=\"background: linear-gradient(to right, rgb(100,100,100), rgb(200,200,200)); color:white;\">\n",
    "\n",
    "# **U-NET LAB Colorization Model**\n",
    "***\n",
    "This notebook implements a U-Net model for image colorization using the LAB color space. The model takes grayscale images (L channel) as input and predicts the a* and b* color channels.\n",
    "\n",
    "### Key Features:\n",
    "- LAB color space for better color prediction\n",
    "- Real-time visualization of colorization progress\n",
    "- TensorBoard integration for detailed monitoring\n",
    "- Combined loss function (0.84 MSE + 0.16 MAE)\n",
    "- Batch normalization and dropout for stability\n",
    "\n",
    "### Model Architecture:\n",
    "- Input: Grayscale image (L channel)\n",
    "- Output: a* and b* channels\n",
    "- Encoder: 3 levels with increasing filters (64, 128, 256)\n",
    "- Bottleneck: 512 filters with dropout\n",
    "- Decoder: 3 levels with skip connections\n",
    "</div>"
   ]
  },
  {
   "cell_type": "code",
   "execution_count": 1,
   "metadata": {},
   "outputs": [],
   "source": [
    "import numpy as np\n",
    "import tensorflow as tf\n",
    "import matplotlib.pyplot as plt\n",
    "import os\n",
    "import datetime\n",
    "import sys\n",
    "\n",
    "# Add Src directory to path for importing our model\n",
    "sys.path.append('../Src')\n",
    "from unet_model_lab import (\n",
    "    build_unet_lab,\n",
    "    lab_loss,\n",
    "    get_callbacks,\n",
    "    rgb_to_lab\n",
    ")"
   ]
  },
  {
   "cell_type": "markdown",
   "metadata": {},
   "source": [
    "## 1. Setup Directories"
   ]
  },
  {
   "cell_type": "code",
   "execution_count": null,
   "metadata": {},
   "outputs": [],
   "source": [
    "# Create directories for logs and models\n",
    "timestamp = datetime.datetime.now().strftime(\"%Y%m%d-%H%M%S\")\n",
    "log_dir = os.path.join('logs', 'lab_unet_' + timestamp)\n",
    "model_dir = '../Models'\n",
    "os.makedirs(log_dir, exist_ok=True)\n",
    "os.makedirs(model_dir, exist_ok=True)\n",
    "\n",
    "print(f\"Logs will be saved to: {log_dir}\")\n",
    "print(f\"Models will be saved to: {model_dir}\")"
   ]
  },
  {
   "cell_type": "markdown",
   "metadata": {},
   "source": [
    "## 2. Load and Preprocess Data"
   ]
  },
  {
   "cell_type": "code",
   "execution_count": null,
   "metadata": {},
   "outputs": [],
   "source": [
    "print(\"Loading training data...\")\n",
    "X_train = np.load(\"../Data/prepared_data/comic_input_grayscale_train.npy\")\n",
    "y_train = np.load(\"../Data/prepared_data/comic_output_color_train.npy\")\n",
    "X_test = np.load(\"../Data/prepared_data/comic_input_grayscale_test.npy\")\n",
    "y_test = np.load(\"../Data/prepared_data/comic_output_color_test.npy\")\n",
    "\n",
    "print(\"\\nData shapes:\")\n",
    "print(f\"X_train: {X_train.shape}\")\n",
    "print(f\"y_train: {y_train.shape}\")\n",
    "print(f\"X_test: {X_test.shape}\")\n",
    "print(f\"y_test: {y_test.shape}\")"
   ]
  },
  {
   "cell_type": "markdown",
   "metadata": {},
   "source": [
    "## 3. Convert to LAB Color Space"
   ]
  },
  {
   "cell_type": "code",
   "execution_count": null,
   "metadata": {},
   "outputs": [],
   "source": [
    "print(\"Converting to LAB color space...\")\n",
    "y_train_lab = np.array([rgb_to_lab(img) for img in y_train])\n",
    "y_test_lab = np.array([rgb_to_lab(img) for img in y_test])\n",
    "\n",
    "# Extract a* and b* channels for training targets\n",
    "y_train_ab = y_train_lab[:, :, :, 1:]  # Channels 1 and 2 are a* and b*\n",
    "y_test_ab = y_test_lab[:, :, :, 1:]    # Channels 1 and 2 are a* and b*\n",
    "\n",
    "# Normalize input images to [-1, 1] range\n",
    "X_train = (X_train - 0.5) * 2\n",
    "X_test = (X_test - 0.5) * 2\n",
    "\n",
    "print(\"\\nProcessed data shapes:\")\n",
    "print(f\"X_train: {X_train.shape} (normalized to [-1, 1])\")\n",
    "print(f\"y_train_ab: {y_train_ab.shape} (a* and b* channels)\")\n",
    "print(f\"X_test: {X_test.shape} (normalized to [-1, 1])\")\n",
    "print(f\"y_test_ab: {y_test_ab.shape} (a* and b* channels)\")"
   ]
  },
  {
   "cell_type": "markdown",
   "metadata": {},
   "source": [
    "## 4. Build and Compile Model"
   ]
  },
  {
   "cell_type": "code",
   "execution_count": null,
   "metadata": {},
   "outputs": [],
   "source": [
    "print(\"Building model...\")\n",
    "input_shape = (256, 256, 1)  # Grayscale input\n",
    "model = build_unet_lab(input_shape)\n",
    "\n",
    "# Plot model architecture\n",
    "tf.keras.utils.plot_model(\n",
    "    model, \n",
    "    to_file=os.path.join(log_dir, 'model_architecture.png'),\n",
    "    show_shapes=True,\n",
    "    show_layer_names=True,\n",
    "    expand_nested=True\n",
    ")\n",
    "\n",
    "# Display model summary\n",
    "model.summary()"
   ]
  },
  {
   "cell_type": "code",
   "execution_count": 6,
   "metadata": {},
   "outputs": [],
   "source": [
    "# Compile model\n",
    "model.compile(\n",
    "    optimizer=tf.keras.optimizers.Adam(learning_rate=1e-4),\n",
    "    loss=lab_loss,\n",
    "    metrics=['mae', 'mse']\n",
    ")"
   ]
  },
  {
   "cell_type": "markdown",
   "metadata": {},
   "source": [
    "## 5. Train Model"
   ]
  },
  {
   "cell_type": "code",
   "execution_count": null,
   "metadata": {},
   "outputs": [],
   "source": [
    "# Get callbacks\n",
    "callbacks = get_callbacks(\n",
    "    model_dir=model_dir,\n",
    "    log_dir=log_dir,\n",
    "    validation_data=(X_test, y_test)\n",
    ")\n",
    "\n",
    "# Train model\n",
    "print(f\"Starting training... Logs will be saved to {log_dir}\")\n",
    "history = model.fit(\n",
    "    X_train, y_train_ab,\n",
    "    validation_data=(X_test, y_test_ab),\n",
    "    epochs=100,\n",
    "    batch_size=32,\n",
    "    callbacks=callbacks,\n",
    "    verbose=1\n",
    ")"
   ]
  },
  {
   "cell_type": "markdown",
   "metadata": {},
   "source": [
    "## 6. Save Model and Training History"
   ]
  },
  {
   "cell_type": "code",
   "execution_count": null,
   "metadata": {},
   "outputs": [],
   "source": [
    "# Save final model\n",
    "model.save(os.path.join(model_dir, \"final_unet_lab.keras\"))\n",
    "\n",
    "# Plot and save training history\n",
    "plt.figure(figsize=(12, 4))\n",
    "\n",
    "# Loss plot\n",
    "plt.subplot(1, 2, 1)\n",
    "plt.plot(history.history['loss'], label='Training Loss')\n",
    "plt.plot(history.history['val_loss'], label='Validation Loss')\n",
    "plt.title('Model Loss')\n",
    "plt.xlabel('Epoch')\n",
    "plt.ylabel('Loss')\n",
    "plt.legend()\n",
    "plt.grid(True)\n",
    "\n",
    "# MAE plot\n",
    "plt.subplot(1, 2, 2)\n",
    "plt.plot(history.history['mae'], label='Training MAE')\n",
    "plt.plot(history.history['val_mae'], label='Validation MAE')\n",
    "plt.title('Model MAE')\n",
    "plt.xlabel('Epoch')\n",
    "plt.ylabel('MAE')\n",
    "plt.legend()\n",
    "plt.grid(True)\n",
    "\n",
    "plt.tight_layout()\n",
    "plt.savefig(os.path.join(log_dir, 'training_history.png'))\n",
    "plt.show()\n",
    "\n",
    "print(f\"Training completed. Models and visualizations saved in {model_dir} and {log_dir}\")"
   ]
  },
  {
   "cell_type": "code",
   "execution_count": null,
   "metadata": {},
   "outputs": [],
   "source": [
    "%load_ext tensorboard\n",
    "%tensorboard --logdir logs"
   ]
  }
 ],
 "metadata": {
  "kernelspec": {
   "display_name": "Python 3",
   "language": "python",
   "name": "python3"
  },
  "language_info": {
   "codemirror_mode": {
    "name": "ipython",
    "version": 3
   },
   "file_extension": ".py",
   "mimetype": "text/x-python",
   "name": "python",
   "nbconvert_exporter": "python",
   "pygments_lexer": "ipython3",
   "version": "3.10.11"
  }
 },
 "nbformat": 4,
 "nbformat_minor": 2
}
