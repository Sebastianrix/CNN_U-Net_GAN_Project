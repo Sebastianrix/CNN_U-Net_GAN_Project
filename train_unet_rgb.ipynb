{
 "cells": [
  {
   "cell_type": "markdown",
   "metadata": {},
   "source": [
    "# Improved U-NET RGB Colorization Model\n",
    "This notebook implements an enhanced version of the U-Net model for comic colorization"
   ]
  },
  {
   "cell_type": "code",
   "execution_count": null,
   "metadata": {},
   "outputs": [],
   "source": [
    "import numpy as np\n",
    "import matplotlib.pyplot as plt\n",
    "from unet_model import build_unet, get_callbacks\n",
    "import tensorflow as tf\n",
    "\n",
    "from tensorflow.keras import layers, models\n",
    "from tensorflow.keras.models import load_model"
   ]
  },
  {
   "cell_type": "code",
   "execution_count": null,
   "metadata": {},
   "outputs": [],
   "source": [
    "# Load and preprocess data\n",
    "X_train = np.load(\"prepared_data/comic_input_grayscale_train.npy\")\n",
    "y_train = np.load(\"prepared_data/comic_output_color_train.npy\")\n",
    "X_test = np.load(\"prepared_data/comic_input_grayscale_test.npy\")\n",
    "y_test = np.load(\"prepared_data/comic_output_color_test.npy\")\n",
    "\n",
    "# Normalize input images to [-1, 1] range for better training with tanh\n",
    "X_train = (X_train - 0.5) * 2\n",
    "X_test = (X_test - 0.5) * 2"
   ]
  },
  {
   "cell_type": "code",
   "execution_count": null,
   "metadata": {},
   "outputs": [],
   "source": [
    "# Build and compile model\n",
    "input_shape = X_train.shape[1:]\n",
    "model = build_unet(input_shape)\n",
    "\n",
    "# Using a combination of MSE and MAE losses\n",
    "def combined_loss(y_true, y_pred):\n",
    "    mse = tf.keras.losses.MeanSquaredError()(y_true, y_pred)\n",
    "    mae = tf.keras.losses.MeanAbsoluteError()(y_true, y_pred)\n",
    "    return 0.84 * mse + 0.16 * mae\n",
    "\n",
    "model.compile(\n",
    "    optimizer=tf.keras.optimizers.Adam(learning_rate=1e-4),\n",
    "    loss=combined_loss,\n",
    "    metrics=['mae']\n",
    ")"
   ]
  },
  {
   "cell_type": "code",
   "execution_count": null,
   "metadata": {},
   "outputs": [],
   "source": [
    "import tensorflow as tf\n",
    "from tensorflow.keras.callbacks import ModelCheckpoint, EarlyStopping\n",
    "\n",
    "# Create model\n",
    "input_shape = (256, 256, 1)  # Adjustable\n",
    "model = build_unet(input_shape)\n",
    "model.compile(optimizer=tf.keras.optimizers.Adam(learning_rate=1e-4),\n",
    "              loss=combined_loss,\n",
    "              metrics=['mae'])\n",
    "\n",
    "# Callback to save the best model (based on val_loss)\n",
    "checkpoint_cb = ModelCheckpoint(\"best_unet_model_rgb.keras\", save_best_only=True, monitor='val_loss', mode='min')\n",
    "\n",
    "# Stop training early if no improvement\n",
    "earlystop_cb = EarlyStopping(patience=10, restore_best_weights=True)\n",
    "\n",
    "# Start training\n",
    "history = model.fit(\n",
    "    X_train, Y_train,\n",
    "    epochs=100,\n",
    "    batch_size=32,\n",
    "    validation_data=(X_val, Y_val),\n",
    "    callbacks=[checkpoint_cb, earlystop_cb]\n",
    ")\n",
    "\n",
    "# Save final model \n",
    "model.save(\"final_trained_unet_rgb.keras\")\n",
    "print(\"Saved both best and final model.\")\n"
   ]
  },
  {
   "cell_type": "code",
   "execution_count": null,
   "metadata": {},
   "outputs": [],
   "source": [
    "# Manual save the model\n",
    "model.save(\"improved_unet_colorization_rgb_comics.keras\")\n",
    "print(\"Model saved as 'improved_unet_colorization_rgb_comics.keras'\")"
   ]
  },
  {
   "cell_type": "code",
   "execution_count": null,
   "metadata": {},
   "outputs": [],
   "source": [
    "# Visualize some results\n",
    "def plot_results(model, X, y, num_samples=3):\n",
    "    predictions = model.predict(X[:num_samples])\n",
    "    \n",
    "    fig, axes = plt.subplots(num_samples, 3, figsize=(15, 5*num_samples))\n",
    "    titles = ['Grayscale Input', 'Predicted Color', 'Ground Truth']\n",
    "    \n",
    "    for i in range(num_samples):\n",
    "        axes[i, 0].imshow(X[i].squeeze(), cmap='gray')\n",
    "        axes[i, 1].imshow(predictions[i])\n",
    "        axes[i, 2].imshow(y[i])\n",
    "        \n",
    "        for j in range(3):\n",
    "            axes[i, j].axis('off')\n",
    "            if i == 0:\n",
    "                axes[i, j].set_title(titles[j])\n",
    "    \n",
    "    plt.tight_layout()\n",
    "    plt.show()\n",
    "\n",
    "# Plot test results\n",
    "plot_results(model, X_test, y_test)"
   ]
  },
  {
   "cell_type": "code",
   "execution_count": null,
   "metadata": {},
   "outputs": [],
   "source": [
    "# Check variables\n",
    "%whos"
   ]
  }
 ],
 "metadata": {
  "kernelspec": {
   "display_name": "Python 3",
   "language": "python",
   "name": "python3"
  },
  "language_info": {
   "codemirror_mode": {
    "name": "ipython",
    "version": 3
   },
   "file_extension": ".py",
   "mimetype": "text/x-python",
   "name": "python",
   "nbconvert_exporter": "python",
   "pygments_lexer": "ipython3",
   "version": "3.10.11"
  }
 },
 "nbformat": 4,
 "nbformat_minor": 2
}
