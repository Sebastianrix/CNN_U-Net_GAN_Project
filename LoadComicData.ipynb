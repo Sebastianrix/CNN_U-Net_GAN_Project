{
 "cells": [
  {
   "cell_type": "markdown",
   "id": "3e476565",
   "metadata": {},
   "source": [
    "<div class=\"alert alert-block alert-info\">\n",
    "\n",
    "# **LoadComicData.ipynb**\n",
    "***\n",
    "### **This script loads comic book images for neural network training. The images are made in a pair of one colored, and one grayscaled.**\n"
   ]
  },
  {
   "cell_type": "code",
   "execution_count": 1,
   "id": "8492234b",
   "metadata": {},
   "outputs": [],
   "source": [
    "import os\n",
    "import zipfile\n",
    "import tarfile\n",
    "import glob\n",
    "import cv2\n",
    "import numpy as np\n",
    "from tqdm import tqdm"
   ]
  },
  {
   "cell_type": "markdown",
   "id": "7bd6fcf2",
   "metadata": {},
   "source": [
    "### Extract the ZIP file"
   ]
  },
  {
   "cell_type": "code",
   "execution_count": 3,
   "id": "eac738cf",
   "metadata": {},
   "outputs": [],
   "source": [
    "def extract_dataset(zip_path, extract_to):\n",
    "    print(\"Unzipping dataset...\")\n",
    "    with zipfile.ZipFile(zip_path, 'r') as zip_ref:\n",
    "        zip_ref.extractall(extract_to)"
   ]
  },
  {
   "cell_type": "markdown",
   "id": "efe1370f",
   "metadata": {},
   "source": [
    "### Extract the TAR.GZ inside the unzipped folder"
   ]
  },
  {
   "cell_type": "code",
   "execution_count": 4,
   "id": "63048c72",
   "metadata": {},
   "outputs": [],
   "source": [
    "def extract_tar_gz(tar_gz_path, extract_to):\n",
    "    print(\"Extracting .tar.gz archive...\")\n",
    "    with tarfile.open(tar_gz_path, 'r:gz') as tar_ref:\n",
    "        tar_ref.extractall(extract_to)"
   ]
  },
  {
   "cell_type": "markdown",
   "id": "0a5e95e2",
   "metadata": {},
   "source": [
    "### Load and process images"
   ]
  },
  {
   "cell_type": "code",
   "execution_count": null,
   "id": "bf99df95",
   "metadata": {},
   "outputs": [],
   "source": []
  }
 ],
 "metadata": {
  "kernelspec": {
   "display_name": "Python 3",
   "language": "python",
   "name": "python3"
  },
  "language_info": {
   "codemirror_mode": {
    "name": "ipython",
    "version": 3
   },
   "file_extension": ".py",
   "mimetype": "text/x-python",
   "name": "python",
   "nbconvert_exporter": "python",
   "pygments_lexer": "ipython3",
   "version": "3.10.11"
  }
 },
 "nbformat": 4,
 "nbformat_minor": 5
}
