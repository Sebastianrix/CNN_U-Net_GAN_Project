{
 "cells": [
  {
   "cell_type": "markdown",
   "metadata": {},
   "source": [
    "<!-- RGB Model -->\n",
    "<div class=\"alert\" style=\"background: linear-gradient(to right,rgb(255, 0, 0), rgb(0,255,0),rgb(0, 0, 255)); \n",
    "color:rgb(255, 255, 255);\">\n",
    "\n",
    "# **U-NET RGB Colorization Model**\n",
    "***\n",
    "### **U-NET RGB Colorization Model.**\n"
   ]
  },
  {
   "cell_type": "code",
   "execution_count": 1,
   "metadata": {},
   "outputs": [],
   "source": [
    "import numpy as np\n",
    "import matplotlib.pyplot as plt\n",
    "from tensorflow.keras import layers, models\n",
    "from tensorflow.keras.models import load_model"
   ]
  },
  {
   "cell_type": "code",
   "execution_count": 2,
   "metadata": {},
   "outputs": [],
   "source": [
    "# Load processed data. Important to run LoadComicData.ipynb first\n",
    "X_train = np.load(\"prepared_data/comic_input_grayscale_train.npy\")\n",
    "y_train = np.load(\"prepared_data/comic_output_color_train.npy\")\n",
    "X_test  = np.load(\"prepared_data/comic_input_grayscale_test.npy\")\n",
    "y_test  = np.load(\"prepared_data/comic_output_color_test.npy\")"
   ]
  }
 ],
 "metadata": {
  "kernelspec": {
   "display_name": "Python 3",
   "language": "python",
   "name": "python3"
  },
  "language_info": {
   "codemirror_mode": {
    "name": "ipython",
    "version": 3
   },
   "file_extension": ".py",
   "mimetype": "text/x-python",
   "name": "python",
   "nbconvert_exporter": "python",
   "pygments_lexer": "ipython3",
   "version": "3.10.11"
  }
 },
 "nbformat": 4,
 "nbformat_minor": 2
}
